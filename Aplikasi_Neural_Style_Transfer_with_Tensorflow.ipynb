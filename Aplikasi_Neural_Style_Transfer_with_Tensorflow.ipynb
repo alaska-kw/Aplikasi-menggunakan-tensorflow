{
  "nbformat": 4,
  "nbformat_minor": 0,
  "metadata": {
    "colab": {
      "provenance": [],
      "toc_visible": true
    },
    "kernelspec": {
      "name": "python3",
      "display_name": "Python 3"
    },
    "language_info": {
      "name": "python"
    }
  },
  "cells": [
    {
      "cell_type": "markdown",
      "source": [
        "*italicized text*# New Section"
      ],
      "metadata": {
        "id": "GFnSIklInQKB"
      }
    },
    {
      "cell_type": "code",
      "source": [
        "import tensorflow as tf\n",
        "def tensor_to_image(tensor):\n",
        "   tensor = tensor*255\n",
        "   tensor = np.array(tensor, dtype=np.uint8)\n",
        "   if np.ndim(tensor)>3:\n",
        "      assert tensor.shape[0] == 1\n",
        "      tensor = tensor[0]\n",
        "   return PIL.Image.fromarray(tensor)"
      ],
      "metadata": {
        "id": "WAy9H2XenWBZ"
      },
      "execution_count": 8,
      "outputs": []
    },
    {
      "cell_type": "code",
      "source": [
        "def image_to_tensor(path_to_img):\n",
        "    img = tf.io.read_file(path_to_img)\n",
        "    img = tf.image.decode_image(img, channels=3, dtype=tf.float32)\n",
        "    # Resize the image to specific dimensions\n",
        "    img = tf.image.resize(img, [512, 512])\n",
        "    img = img[tf.newaxis, :]\n",
        "    return img"
      ],
      "metadata": {
        "id": "2EK81G2QndRa"
      },
      "execution_count": 9,
      "outputs": []
    },
    {
      "cell_type": "code",
      "source": [
        "kucing_tensor = image_to_tensor('/content/kucing.jpg')\n",
        "style_tensor = image_to_tensor('/content/style.jpg')"
      ],
      "metadata": {
        "id": "6ulQP0FingGV"
      },
      "execution_count": 10,
      "outputs": []
    },
    {
      "cell_type": "code",
      "source": [
        "import tensorflow_hub as hub\n",
        "import numpy as np\n",
        "import PIL.Image\n",
        "import time\n",
        "import functools\n",
        "hub_module = hub.load('https://tfhub.dev/google/magenta/arbitrary-image-stylization-v1-256/1')\n",
        "stylized_image = hub_module(tf.constant(kucing_tensor), tf.constant(style_tensor))[0]\n",
        "tensor_to_image(stylized_image)"
      ],
      "metadata": {
        "id": "yaJFPhwsoMYQ"
      },
      "execution_count": null,
      "outputs": []
    }
  ]
}